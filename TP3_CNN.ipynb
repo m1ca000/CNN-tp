{
  "nbformat": 4,
  "nbformat_minor": 0,
  "metadata": {
    "colab": {
      "provenance": []
    },
    "kernelspec": {
      "name": "python3",
      "display_name": "Python 3"
    },
    "language_info": {
      "name": "python"
    }
  },
  "cells": [
    {
      "cell_type": "markdown",
      "source": [
        "#Consigna\n",
        "Identificar un problema de clasificación multiclase de imagenes que puedan resolver utilizando una red neuronal convolucional implementada en Keras utilizando TensorFlow como vimos en clase. Desarrollar un modelo para resolver en un Python Notebook, donde diseñen una red e implementen como adaptar los datos de entrada a una matriz, para pasarla por un modelo creado con Keras. Se pueden apoyar del ejemplo resuelto sobre el dataset de MNIST de clasificación de Digitos en este Notebook\n",
        "\n",
        "Ademas en el mismo notebook deberán:\n",
        "\n",
        "1. Explicar el problema a resolver y la solución propuesta\n",
        "2. Identificar y explicar los conceptos teóricos vistos en clase sobre modelado y entrenamiento de redes neuronales. Tip: visualizar el modelo con algún paquete como keras-visualizer para explicar su comportamiento.\n",
        "3. Visualizar los datos de entrada, ejemplos tomados del dataset, y algunos ejemplos de salida.\n",
        "\n",
        "Se puede optar por resolver el problema con el dataset de Fashion MNIST. Este ya viene cargado en Google Colab. Pueden encontrar otros datasets en Kaggle o directamente de internet."
      ],
      "metadata": {
        "id": "ixHac1NOYkwh"
      }
    },
    {
      "cell_type": "markdown",
      "source": [
        "#Consigna 1\n",
        "El dataset importado de keras contiene imagenes de 28x28, las cuales son imagenes diferentes prendas de ropa. Lo que vamos a hacer con este modelo es que aprenda a identificar prenda de ropa es en base a la foto."
      ],
      "metadata": {
        "id": "HE3khwZzaCRY"
      }
    },
    {
      "cell_type": "code",
      "execution_count": 2,
      "metadata": {
        "id": "7gHr606_Vngn"
      },
      "outputs": [],
      "source": [
        "#Importamos las librerias necesarias\n",
        "import tensorflow as tf\n",
        "import seaborn as sns\n",
        "import numpy as np\n",
        "import pandas as pd\n",
        "import matplotlib.pyplot as plt\n",
        "import matplotlib.image as mpimg"
      ]
    },
    {
      "cell_type": "code",
      "source": [
        "#Importamos el dataset\n",
        "fashion_mnist = tf.keras.datasets.fashion_mnist"
      ],
      "metadata": {
        "id": "o35W2zoIkNMe"
      },
      "execution_count": 3,
      "outputs": []
    },
    {
      "cell_type": "code",
      "source": [
        "#Importamos la data\n",
        "(X_train, y_train), (X_test, y_test) = fashion_mnist.load_data()\n",
        "print(y_train.shape, y_test.shape)"
      ],
      "metadata": {
        "colab": {
          "base_uri": "https://localhost:8080/"
        },
        "id": "DOOf5PF1mmq5",
        "outputId": "efa241e2-22e2-40bc-921a-97fd767f8308"
      },
      "execution_count": 4,
      "outputs": [
        {
          "output_type": "stream",
          "name": "stdout",
          "text": [
            "Downloading data from https://storage.googleapis.com/tensorflow/tf-keras-datasets/train-labels-idx1-ubyte.gz\n",
            "\u001b[1m29515/29515\u001b[0m \u001b[32m━━━━━━━━━━━━━━━━━━━━\u001b[0m\u001b[37m\u001b[0m \u001b[1m0s\u001b[0m 0us/step\n",
            "Downloading data from https://storage.googleapis.com/tensorflow/tf-keras-datasets/train-images-idx3-ubyte.gz\n",
            "\u001b[1m26421880/26421880\u001b[0m \u001b[32m━━━━━━━━━━━━━━━━━━━━\u001b[0m\u001b[37m\u001b[0m \u001b[1m2s\u001b[0m 0us/step\n",
            "Downloading data from https://storage.googleapis.com/tensorflow/tf-keras-datasets/t10k-labels-idx1-ubyte.gz\n",
            "\u001b[1m5148/5148\u001b[0m \u001b[32m━━━━━━━━━━━━━━━━━━━━\u001b[0m\u001b[37m\u001b[0m \u001b[1m0s\u001b[0m 0us/step\n",
            "Downloading data from https://storage.googleapis.com/tensorflow/tf-keras-datasets/t10k-images-idx3-ubyte.gz\n",
            "\u001b[1m4422102/4422102\u001b[0m \u001b[32m━━━━━━━━━━━━━━━━━━━━\u001b[0m\u001b[37m\u001b[0m \u001b[1m1s\u001b[0m 0us/step\n",
            "(60000,) (10000,)\n"
          ]
        }
      ]
    },
    {
      "cell_type": "code",
      "source": [
        "#Ploteamos la primer imagen del dataset\n",
        "plt.imshow(X_train[0])"
      ],
      "metadata": {
        "colab": {
          "base_uri": "https://localhost:8080/",
          "height": 447
        },
        "id": "jcYzX7YOmzqO",
        "outputId": "8e5b149e-bec0-4f1f-a84c-e5fcdaaa6790"
      },
      "execution_count": 5,
      "outputs": [
        {
          "output_type": "execute_result",
          "data": {
            "text/plain": [
              "<matplotlib.image.AxesImage at 0x7a130b67f250>"
            ]
          },
          "metadata": {},
          "execution_count": 5
        },
        {
          "output_type": "display_data",
          "data": {
            "text/plain": [
              "<Figure size 640x480 with 1 Axes>"
            ],
            "image/png": "[encoded data removed]"
          },
          "metadata": {}
        }
      ]
    },
    {
      "cell_type": "code",
      "source": [
        "#Chequeamos el tamaño de la imagen\n",
        "X_train[0].shape"
      ],
      "metadata": {
        "id": "8_FQ0D_wokPH",
        "colab": {
          "base_uri": "https://localhost:8080/"
        },
        "outputId": "ef2964d8-f0d0-4594-f3e3-fb7ff2baab0f"
      },
      "execution_count": 6,
      "outputs": [
        {
          "output_type": "execute_result",
          "data": {
            "text/plain": [
              "(28, 28)"
            ]
          },
          "metadata": {},
          "execution_count": 6
        }
      ]
    },
    {
      "cell_type": "code",
      "source": [
        "#Chequeamos las dimensiones de los datos de entrenamiento\n",
        "X_train.shape"
      ],
      "metadata": {
        "colab": {
          "base_uri": "https://localhost:8080/"
        },
        "id": "3IF2-HA7opsE",
        "outputId": "63538460-0110-4830-ffc9-cba01cb20af7"
      },
      "execution_count": 16,
      "outputs": [
        {
          "output_type": "execute_result",
          "data": {
            "text/plain": [
              "(60000, 28, 28, 1)"
            ]
          },
          "metadata": {},
          "execution_count": 16
        }
      ]
    },
    {
      "cell_type": "code",
      "source": [
        "#Modificamos los datos de entrenamiento para que se ajusten con el modelo\n",
        "X_train = X_train.reshape(60000,28,28,1)\n",
        "print(X_train.shape)"
      ],
      "metadata": {
        "colab": {
          "base_uri": "https://localhost:8080/"
        },
        "id": "AkOc-Fn2pEgz",
        "outputId": "b9e9bc49-3906-4067-ce2e-5b23224ffaf6"
      },
      "execution_count": 17,
      "outputs": [
        {
          "output_type": "stream",
          "name": "stdout",
          "text": [
            "(60000, 28, 28, 1)\n"
          ]
        }
      ]
    },
    {
      "cell_type": "code",
      "source": [
        "#Chequeamos las dimensiones de los datos de testeo\n",
        "X_test.shape"
      ],
      "metadata": {
        "colab": {
          "base_uri": "https://localhost:8080/"
        },
        "id": "CqTJfc_wq-hp",
        "outputId": "eeb370e7-834b-4bb2-b081-30021c3bbc22"
      },
      "execution_count": 18,
      "outputs": [
        {
          "output_type": "execute_result",
          "data": {
            "text/plain": [
              "(10000, 28, 28, 1)"
            ]
          },
          "metadata": {},
          "execution_count": 18
        }
      ]
    },
    {
      "cell_type": "code",
      "source": [
        "#Modificamos los datos de testeo para que se ajusten con el modelo\n",
        "X_test = X_test.reshape(10000,28,28,1)\n",
        "print(X_test.shape)"
      ],
      "metadata": {
        "colab": {
          "base_uri": "https://localhost:8080/"
        },
        "id": "oMaKWeRarW0D",
        "outputId": "62c870eb-440b-479e-8e3d-2322973a473c"
      },
      "execution_count": 19,
      "outputs": [
        {
          "output_type": "stream",
          "name": "stdout",
          "text": [
            "(10000, 28, 28, 1)\n"
          ]
        }
      ]
    },
    {
      "cell_type": "code",
      "source": [
        "#Usamos la función de TensorFlow para convertir las etiquetas de entrenamiento a one_hot encodign, y luego hacemos lo mismo con las de testeo\n",
        "y_train_onehot = tf.one_hot(y_train, depth=10)\n",
        "y_test_onehot = tf.one_hot(y_test, depth=10)\n",
        "print(\"y_train[0]:\", y_train[0])\n",
        "print(\"y_train_onehot[0]:\", y_train_onehot[0])"
      ],
      "metadata": {
        "colab": {
          "base_uri": "https://localhost:8080/"
        },
        "id": "ux7T6lvXroS9",
        "outputId": "cee7185c-d7a5-4f9d-eb32-28c0d3266753"
      },
      "execution_count": 22,
      "outputs": [
        {
          "output_type": "stream",
          "name": "stdout",
          "text": [
            "y_train[0]: 9\n",
            "y_train_onehot[0]: tf.Tensor([0. 0. 0. 0. 0. 0. 0. 0. 0. 1.], shape=(10,), dtype=float32)\n"
          ]
        }
      ]
    },
    {
      "cell_type": "code",
      "source": [
        "#Parámetros del modelo\n",
        "num_filters = 8 #Cantidad de filtros en la capa de convolución\n",
        "filter_size = 3 #Tamaño del filtro para la capa convolucional\n",
        "pool_size = 2 #Tamaño de la ventana para la capa de max-pooling\n",
        "\n",
        "#Definición del modelo secuencial\n",
        "model = tf.keras.Sequential([\n",
        "    tf.keras.Input(shape=(28, 28, 1)),  # La forma de la imagen es 28x28x1 (escala de grises)\n",
        "    #Primera capa convolucional\n",
        "    tf.keras.layers.Conv2D(\n",
        "        filters=num_filters, #Aplicamos 8 filtros para extraer características\n",
        "        kernel_size=filter_size,#Cada filtro es de tamaño 3x3\n",
        "        activation='relu', #Utilizamos la activación ReLU\n",
        "    ),\n",
        "    #Capa de max-pooling\n",
        "    tf.keras.layers.MaxPooling2D(\n",
        "        pool_size=pool_size #Reducimos la dimensionalidad con una ventana de 2x2\n",
        "    ),\n",
        "\n",
        "    #Capa de Flatten\n",
        "    tf.keras.layers.Flatten(), #Convertimos la salida 2D de la capa convolucional en un vector 1D\n",
        "\n",
        "    # Primera capa densa (completamente conectada)\n",
        "    tf.keras.layers.Dense(\n",
        "        128, #Tiene 128 neuronas\n",
        "        activation='relu' #Usamos la activación ReLU\n",
        "    ),\n",
        "\n",
        "    # Capa de salida\n",
        "    tf.keras.layers.Dense(\n",
        "        10, #Tiene 10 neuronas (una por clase en fashion_mnist)\n",
        "        activation='softmax' #Softmax para obtener probabilidades para cada clase\n",
        "    )\n",
        "])\n"
      ],
      "metadata": {
        "id": "3u-P4wF2znuo"
      },
      "execution_count": 55,
      "outputs": []
    },
    {
      "cell_type": "code",
      "source": [
        "#Compilamos el modelo\n",
        "model.compile(optimizer='adam', loss='categorical_crossentropy', metrics=['accuracy'])"
      ],
      "metadata": {
        "id": "A0dROLBe1t0Y"
      },
      "execution_count": 56,
      "outputs": []
    },
    {
      "cell_type": "code",
      "source": [
        "#Entrenamos el modelo\n",
        "history = model.fit(X_train, y_train_onehot, validation_data=(X_test, y_test_onehot), epochs=5)"
      ],
      "metadata": {
        "colab": {
          "base_uri": "https://localhost:8080/"
        },
        "id": "qA5PTRg524ko",
        "outputId": "7751411b-58f1-4eec-a419-20506b92f403"
      },
      "execution_count": 62,
      "outputs": [
        {
          "output_type": "stream",
          "name": "stdout",
          "text": [
            "Epoch 1/5\n",
            "\u001b[1m1875/1875\u001b[0m \u001b[32m━━━━━━━━━━━━━━━━━━━━\u001b[0m\u001b[37m\u001b[0m \u001b[1m24s\u001b[0m 13ms/step - accuracy: 0.9345 - loss: 0.1731 - val_accuracy: 0.8894 - val_loss: 0.3803\n",
            "Epoch 2/5\n",
            "\u001b[1m1875/1875\u001b[0m \u001b[32m━━━━━━━━━━━━━━━━━━━━\u001b[0m\u001b[37m\u001b[0m \u001b[1m39s\u001b[0m 11ms/step - accuracy: 0.9414 - loss: 0.1543 - val_accuracy: 0.8851 - val_loss: 0.4085\n",
            "Epoch 3/5\n",
            "\u001b[1m1875/1875\u001b[0m \u001b[32m━━━━━━━━━━━━━━━━━━━━\u001b[0m\u001b[37m\u001b[0m \u001b[1m24s\u001b[0m 13ms/step - accuracy: 0.9457 - loss: 0.1440 - val_accuracy: 0.8912 - val_loss: 0.4440\n",
            "Epoch 4/5\n",
            "\u001b[1m1875/1875\u001b[0m \u001b[32m━━━━━━━━━━━━━━━━━━━━\u001b[0m\u001b[37m\u001b[0m \u001b[1m20s\u001b[0m 11ms/step - accuracy: 0.9499 - loss: 0.1349 - val_accuracy: 0.8909 - val_loss: 0.4287\n",
            "Epoch 5/5\n",
            "\u001b[1m1875/1875\u001b[0m \u001b[32m━━━━━━━━━━━━━━━━━━━━\u001b[0m\u001b[37m\u001b[0m \u001b[1m22s\u001b[0m 12ms/step - accuracy: 0.9544 - loss: 0.1237 - val_accuracy: 0.8919 - val_loss: 0.4501\n"
          ]
        }
      ]
    },
    {
      "cell_type": "code",
      "source": [
        "history.history"
      ],
      "metadata": {
        "colab": {
          "base_uri": "https://localhost:8080/"
        },
        "id": "BPFO8nUuAqh_",
        "outputId": "08753f0e-2cbf-4faa-8d2a-dea28942c911"
      },
      "execution_count": 63,
      "outputs": [
        {
          "output_type": "execute_result",
          "data": {
            "text/plain": [
              "{'accuracy': [0.9340999722480774,\n",
              "  0.9386166930198669,\n",
              "  0.9435999989509583,\n",
              "  0.9472000002861023,\n",
              "  0.9509833455085754],\n",
              " 'loss': [0.1763143688440323,\n",
              "  0.1612866371870041,\n",
              "  0.1528957486152649,\n",
              "  0.1419583261013031,\n",
              "  0.13303358852863312],\n",
              " 'val_accuracy': [0.8894000053405762,\n",
              "  0.8851000070571899,\n",
              "  0.8912000060081482,\n",
              "  0.8909000158309937,\n",
              "  0.8919000029563904],\n",
              " 'val_loss': [0.38029998540878296,\n",
              "  0.40850895643234253,\n",
              "  0.4439600706100464,\n",
              "  0.42874813079833984,\n",
              "  0.4501344859600067]}"
            ]
          },
          "metadata": {},
          "execution_count": 63
        }
      ]
    },
    {
      "cell_type": "code",
      "source": [
        "#Grafico de la evolución del loss durante el entrenamiento en los epochs.\n",
        "plt.plot(history.history['loss'])"
      ],
      "metadata": {
        "colab": {
          "base_uri": "https://localhost:8080/",
          "height": 447
        },
        "id": "Stn9KdqgBT3m",
        "outputId": "774f1f3f-e781-49af-b92e-5c77a7697e91"
      },
      "execution_count": 74,
      "outputs": [
        {
          "output_type": "execute_result",
          "data": {
            "text/plain": [
              "[<matplotlib.lines.Line2D at 0x7a12f18642e0>]"
            ]
          },
          "metadata": {},
          "execution_count": 74
        },
        {
          "output_type": "display_data",
          "data": {
            "text/plain": [
              "<Figure size 640x480 with 1 Axes>"
            ],
            "image/png": "[encoded data removed]"
          },
          "metadata": {}
        }
      ]
    },
    {
      "cell_type": "code",
      "source": [
        "fig, ax = plt.subplots(1,2, figsize=(10, 5))\n",
        "\n",
        "ax[0].plot(history.history['loss'], color='b', label=\"Training Loss\")\n",
        "ax[0].plot(history.history['val_loss'], color='r', label=\"Validation Loss\")\n",
        "legend = ax[0].legend(loc='best', shadow=True)\n",
        "\n",
        "ax[1].plot(history.history['accuracy'], color='b', label=\"Training Accuracy\")\n",
        "ax[1].plot(history.history['val_accuracy'], color='r',label=\"Validation Accuracy\")\n",
        "legend = ax[1].legend(loc='best', shadow=True)"
      ],
      "metadata": {
        "colab": {
          "base_uri": "https://localhost:8080/",
          "height": 445
        },
        "id": "ZBmjIAr0BXoX",
        "outputId": "0e68cfa9-efbf-40bb-f0e4-e3ecbce41a71"
      },
      "execution_count": 66,
      "outputs": [
        {
          "output_type": "display_data",
          "data": {
            "text/plain": [
              "<Figure size 1000x500 with 2 Axes>"
            ],
            "image/png": "[encoded data removed]"
          },
          "metadata": {}
        }
      ]
    },
    {
      "cell_type": "code",
      "source": [
        "#Predecimos todas las imagenes del dataset\n",
        "pred_probs = model.predict(X_test)\n",
        "pred_probs"
      ],
      "metadata": {
        "colab": {
          "base_uri": "https://localhost:8080/"
        },
        "id": "coqpPcFCCCz4",
        "outputId": "d625cb0f-b902-4a2b-b615-d8946608a398"
      },
      "execution_count": 76,
      "outputs": [
        {
          "output_type": "stream",
          "name": "stdout",
          "text": [
            "\u001b[1m313/313\u001b[0m \u001b[32m━━━━━━━━━━━━━━━━━━━━\u001b[0m\u001b[37m\u001b[0m \u001b[1m1s\u001b[0m 4ms/step\n"
          ]
        },
        {
          "output_type": "execute_result",
          "data": {
            "text/plain": [
              "array([[4.5044731e-20, 1.8806460e-21, 9.2190471e-22, ..., 1.6763868e-09,\n",
              "        1.9097266e-17, 9.9999994e-01],\n",
              "       [1.6546318e-04, 2.2574308e-21, 9.9983454e-01, ..., 2.6492284e-30,\n",
              "        9.6718982e-15, 5.6397265e-27],\n",
              "       [4.3338286e-34, 9.9999994e-01, 0.0000000e+00, ..., 4.9110002e-35,\n",
              "        8.7702276e-32, 0.0000000e+00],\n",
              "       ...,\n",
              "       [2.4417738e-19, 6.2698122e-23, 1.6283576e-22, ..., 5.0239045e-24,\n",
              "        9.9999994e-01, 2.8170427e-20],\n",
              "       [3.9227759e-35, 9.9999994e-01, 0.0000000e+00, ..., 4.3245949e-35,\n",
              "        1.3590211e-26, 0.0000000e+00],\n",
              "       [2.1133274e-06, 3.8098747e-06, 3.0004461e-08, ..., 2.1304218e-03,\n",
              "        3.1431172e-02, 2.4438594e-03]], dtype=float32)"
            ]
          },
          "metadata": {},
          "execution_count": 76
        }
      ]
    },
    {
      "cell_type": "code",
      "source": [
        "#Para cada imagen, buscamos la etiqueta con mayor probabilidad.\n",
        "pred_classes = np.argmax(pred_probs,axis=1)"
      ],
      "metadata": {
        "id": "W8FdIVwQCeYg"
      },
      "execution_count": 77,
      "outputs": []
    },
    {
      "cell_type": "code",
      "source": [
        "#Mostramos las etiquetas\n",
        "y_test"
      ],
      "metadata": {
        "colab": {
          "base_uri": "https://localhost:8080/"
        },
        "id": "sUj6AjeQCjFI",
        "outputId": "fdbfbe3e-85ca-44b3-dc4f-d53a03455e4a"
      },
      "execution_count": 78,
      "outputs": [
        {
          "output_type": "execute_result",
          "data": {
            "text/plain": [
              "array([9, 2, 1, ..., 8, 1, 5], dtype=uint8)"
            ]
          },
          "metadata": {},
          "execution_count": 78
        }
      ]
    }
  ]
}